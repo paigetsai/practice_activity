{
  "cells": [
    {
      "cell_type": "raw",
      "metadata": {},
      "source": [
        "---\n",
        "title: \"Practice Activity 9.2\"\n",
        "author: \"Paige Tsai\"\n",
        "format:\n",
        "    html:\n",
        "        toc: true\n",
        "        code-fold: true\n",
        "        echo: true\n",
        "theme: cosmo\n",
        "embed-resources: true\n",
        "---"
      ]
    },
    {
      "cell_type": "markdown",
      "metadata": {
        "id": "P_N9XP2-04VH"
      },
      "source": [
        "\n",
        "Our dataset consists of clinical data from patients who entered the hospital complaining of chest pain (\"angina\") during exercise.  The information collected includes:\n",
        "\n",
        "* `age` : Age of the patient\n",
        "\n",
        "* `sex` : Sex of the patient\n",
        "\n",
        "* `cp` : Chest Pain type\n",
        "\n",
        "    + Value 0: asymptomatic\n",
        "    + Value 1: typical angina\n",
        "    + Value 2: atypical angina\n",
        "    + Value 3: non-anginal pain\n",
        "   \n",
        "    \n",
        "* `trtbps` : resting blood pressure (in mm Hg)\n",
        "\n",
        "* `chol` : cholesterol in mg/dl fetched via BMI sensor\n",
        "\n",
        "* `restecg` : resting electrocardiographic results\n",
        "\n",
        "    + Value 0: normal\n",
        "    + Value 1: having ST-T wave abnormality (T wave inversions and/or ST elevation or depression of > 0.05 mV)\n",
        "    + Value 2: showing probable or definite left ventricular hypertrophy by Estes' criteria\n",
        "\n",
        "* `thalach` : maximum heart rate achieved during exercise\n",
        "\n",
        "* `output` : the doctor's diagnosis of whether the patient is at risk for a heart attack\n",
        "    + 0 = not at risk of heart attack\n",
        "    + 1 = at risk of heart attack"
      ]
    },
    {
      "cell_type": "code",
      "execution_count": 1,
      "metadata": {
        "id": "tZmjmGGQ1CaN"
      },
      "outputs": [],
      "source": [
        "import numpy as np\n",
        "import pandas as pd\n",
        "from sys import exit\n",
        "from plotnine import *\n",
        "import matplotlib.pyplot as plt\n",
        "import seaborn as sns"
      ]
    },
    {
      "cell_type": "code",
      "execution_count": 2,
      "metadata": {
        "id": "tmx9l4NGtJIt"
      },
      "outputs": [],
      "source": [
        "import warnings\n",
        "from sklearn.exceptions import ConvergenceWarning\n",
        "\n",
        "warnings.filterwarnings(\"ignore\", category=ConvergenceWarning)"
      ]
    },
    {
      "cell_type": "code",
      "execution_count": 3,
      "metadata": {
        "id": "6qtzYxatsJ_7"
      },
      "outputs": [],
      "source": [
        "from sklearn.linear_model import LogisticRegression\n",
        "from sklearn.tree import DecisionTreeClassifier, plot_tree\n",
        "from sklearn.neighbors import KNeighborsClassifier\n",
        "from sklearn.discriminant_analysis import LinearDiscriminantAnalysis\n",
        "from sklearn.model_selection import cross_val_predict\n",
        "from sklearn.metrics import classification_report\n",
        "from sklearn.metrics import roc_auc_score\n",
        "from sklearn.pipeline import Pipeline\n",
        "from sklearn.compose import ColumnTransformer\n",
        "from sklearn.preprocessing import OneHotEncoder, StandardScaler\n",
        "from sklearn.compose import make_column_selector\n"
      ]
    },
    {
      "cell_type": "code",
      "execution_count": 4,
      "metadata": {
        "colab": {
          "base_uri": "https://localhost:8080/",
          "height": 206
        },
        "id": "ghXbwhv600-S",
        "outputId": "ce9bb6de-dc0c-49f9-f50e-0d520a9e171c"
      },
      "outputs": [
        {
          "data": {
            "application/vnd.google.colaboratory.intrinsic+json": {
              "summary": "{\n  \"name\": \"ha\",\n  \"rows\": 273,\n  \"fields\": [\n    {\n      \"column\": \"age\",\n      \"properties\": {\n        \"dtype\": \"number\",\n        \"std\": 9,\n        \"min\": 29,\n        \"max\": 77,\n        \"num_unique_values\": 41,\n        \"samples\": [\n          47,\n          69,\n          49\n        ],\n        \"semantic_type\": \"\",\n        \"description\": \"\"\n      }\n    },\n    {\n      \"column\": \"sex\",\n      \"properties\": {\n        \"dtype\": \"number\",\n        \"std\": 0,\n        \"min\": 0,\n        \"max\": 1,\n        \"num_unique_values\": 2,\n        \"samples\": [\n          0,\n          1\n        ],\n        \"semantic_type\": \"\",\n        \"description\": \"\"\n      }\n    },\n    {\n      \"column\": \"cp\",\n      \"properties\": {\n        \"dtype\": \"number\",\n        \"std\": 1,\n        \"min\": 0,\n        \"max\": 3,\n        \"num_unique_values\": 4,\n        \"samples\": [\n          2,\n          0\n        ],\n        \"semantic_type\": \"\",\n        \"description\": \"\"\n      }\n    },\n    {\n      \"column\": \"trtbps\",\n      \"properties\": {\n        \"dtype\": \"number\",\n        \"std\": 17,\n        \"min\": 94,\n        \"max\": 200,\n        \"num_unique_values\": 48,\n        \"samples\": [\n          148,\n          165\n        ],\n        \"semantic_type\": \"\",\n        \"description\": \"\"\n      }\n    },\n    {\n      \"column\": \"chol\",\n      \"properties\": {\n        \"dtype\": \"number\",\n        \"std\": 52,\n        \"min\": 126,\n        \"max\": 564,\n        \"num_unique_values\": 148,\n        \"samples\": [\n          174,\n          211\n        ],\n        \"semantic_type\": \"\",\n        \"description\": \"\"\n      }\n    },\n    {\n      \"column\": \"restecg\",\n      \"properties\": {\n        \"dtype\": \"number\",\n        \"std\": 0,\n        \"min\": 0,\n        \"max\": 2,\n        \"num_unique_values\": 3,\n        \"samples\": [\n          0,\n          1\n        ],\n        \"semantic_type\": \"\",\n        \"description\": \"\"\n      }\n    },\n    {\n      \"column\": \"thalach\",\n      \"properties\": {\n        \"dtype\": \"number\",\n        \"std\": 23,\n        \"min\": 71,\n        \"max\": 202,\n        \"num_unique_values\": 90,\n        \"samples\": [\n          132,\n          140\n        ],\n        \"semantic_type\": \"\",\n        \"description\": \"\"\n      }\n    },\n    {\n      \"column\": \"output\",\n      \"properties\": {\n        \"dtype\": \"number\",\n        \"std\": 0,\n        \"min\": 0,\n        \"max\": 1,\n        \"num_unique_values\": 2,\n        \"samples\": [\n          0,\n          1\n        ],\n        \"semantic_type\": \"\",\n        \"description\": \"\"\n      }\n    }\n  ]\n}",
              "type": "dataframe",
              "variable_name": "ha"
            },
            "text/html": [
              "\n",
              "  <div id=\"df-37a102c7-ed41-48d7-b426-9a244c61b79b\" class=\"colab-df-container\">\n",
              "    <div>\n",
              "<style scoped>\n",
              "    .dataframe tbody tr th:only-of-type {\n",
              "        vertical-align: middle;\n",
              "    }\n",
              "\n",
              "    .dataframe tbody tr th {\n",
              "        vertical-align: top;\n",
              "    }\n",
              "\n",
              "    .dataframe thead th {\n",
              "        text-align: right;\n",
              "    }\n",
              "</style>\n",
              "<table border=\"1\" class=\"dataframe\">\n",
              "  <thead>\n",
              "    <tr style=\"text-align: right;\">\n",
              "      <th></th>\n",
              "      <th>age</th>\n",
              "      <th>sex</th>\n",
              "      <th>cp</th>\n",
              "      <th>trtbps</th>\n",
              "      <th>chol</th>\n",
              "      <th>restecg</th>\n",
              "      <th>thalach</th>\n",
              "      <th>output</th>\n",
              "    </tr>\n",
              "  </thead>\n",
              "  <tbody>\n",
              "    <tr>\n",
              "      <th>0</th>\n",
              "      <td>63</td>\n",
              "      <td>1</td>\n",
              "      <td>3</td>\n",
              "      <td>145</td>\n",
              "      <td>233</td>\n",
              "      <td>0</td>\n",
              "      <td>150</td>\n",
              "      <td>1</td>\n",
              "    </tr>\n",
              "    <tr>\n",
              "      <th>1</th>\n",
              "      <td>37</td>\n",
              "      <td>1</td>\n",
              "      <td>2</td>\n",
              "      <td>130</td>\n",
              "      <td>250</td>\n",
              "      <td>1</td>\n",
              "      <td>187</td>\n",
              "      <td>1</td>\n",
              "    </tr>\n",
              "    <tr>\n",
              "      <th>2</th>\n",
              "      <td>56</td>\n",
              "      <td>1</td>\n",
              "      <td>1</td>\n",
              "      <td>120</td>\n",
              "      <td>236</td>\n",
              "      <td>1</td>\n",
              "      <td>178</td>\n",
              "      <td>1</td>\n",
              "    </tr>\n",
              "    <tr>\n",
              "      <th>3</th>\n",
              "      <td>57</td>\n",
              "      <td>0</td>\n",
              "      <td>0</td>\n",
              "      <td>120</td>\n",
              "      <td>354</td>\n",
              "      <td>1</td>\n",
              "      <td>163</td>\n",
              "      <td>1</td>\n",
              "    </tr>\n",
              "    <tr>\n",
              "      <th>4</th>\n",
              "      <td>57</td>\n",
              "      <td>1</td>\n",
              "      <td>0</td>\n",
              "      <td>140</td>\n",
              "      <td>192</td>\n",
              "      <td>1</td>\n",
              "      <td>148</td>\n",
              "      <td>1</td>\n",
              "    </tr>\n",
              "  </tbody>\n",
              "</table>\n",
              "</div>\n",
              "    <div class=\"colab-df-buttons\">\n",
              "\n",
              "  <div class=\"colab-df-container\">\n",
              "    <button class=\"colab-df-convert\" onclick=\"convertToInteractive('df-37a102c7-ed41-48d7-b426-9a244c61b79b')\"\n",
              "            title=\"Convert this dataframe to an interactive table.\"\n",
              "            style=\"display:none;\">\n",
              "\n",
              "  <svg xmlns=\"http://www.w3.org/2000/svg\" height=\"24px\" viewBox=\"0 -960 960 960\">\n",
              "    <path d=\"M120-120v-720h720v720H120Zm60-500h600v-160H180v160Zm220 220h160v-160H400v160Zm0 220h160v-160H400v160ZM180-400h160v-160H180v160Zm440 0h160v-160H620v160ZM180-180h160v-160H180v160Zm440 0h160v-160H620v160Z\"/>\n",
              "  </svg>\n",
              "    </button>\n",
              "\n",
              "  <style>\n",
              "    .colab-df-container {\n",
              "      display:flex;\n",
              "      gap: 12px;\n",
              "    }\n",
              "\n",
              "    .colab-df-convert {\n",
              "      background-color: #E8F0FE;\n",
              "      border: none;\n",
              "      border-radius: 50%;\n",
              "      cursor: pointer;\n",
              "      display: none;\n",
              "      fill: #1967D2;\n",
              "      height: 32px;\n",
              "      padding: 0 0 0 0;\n",
              "      width: 32px;\n",
              "    }\n",
              "\n",
              "    .colab-df-convert:hover {\n",
              "      background-color: #E2EBFA;\n",
              "      box-shadow: 0px 1px 2px rgba(60, 64, 67, 0.3), 0px 1px 3px 1px rgba(60, 64, 67, 0.15);\n",
              "      fill: #174EA6;\n",
              "    }\n",
              "\n",
              "    .colab-df-buttons div {\n",
              "      margin-bottom: 4px;\n",
              "    }\n",
              "\n",
              "    [theme=dark] .colab-df-convert {\n",
              "      background-color: #3B4455;\n",
              "      fill: #D2E3FC;\n",
              "    }\n",
              "\n",
              "    [theme=dark] .colab-df-convert:hover {\n",
              "      background-color: #434B5C;\n",
              "      box-shadow: 0px 1px 3px 1px rgba(0, 0, 0, 0.15);\n",
              "      filter: drop-shadow(0px 1px 2px rgba(0, 0, 0, 0.3));\n",
              "      fill: #FFFFFF;\n",
              "    }\n",
              "  </style>\n",
              "\n",
              "    <script>\n",
              "      const buttonEl =\n",
              "        document.querySelector('#df-37a102c7-ed41-48d7-b426-9a244c61b79b button.colab-df-convert');\n",
              "      buttonEl.style.display =\n",
              "        google.colab.kernel.accessAllowed ? 'block' : 'none';\n",
              "\n",
              "      async function convertToInteractive(key) {\n",
              "        const element = document.querySelector('#df-37a102c7-ed41-48d7-b426-9a244c61b79b');\n",
              "        const dataTable =\n",
              "          await google.colab.kernel.invokeFunction('convertToInteractive',\n",
              "                                                    [key], {});\n",
              "        if (!dataTable) return;\n",
              "\n",
              "        const docLinkHtml = 'Like what you see? Visit the ' +\n",
              "          '<a target=\"_blank\" href=https://colab.research.google.com/notebooks/data_table.ipynb>data table notebook</a>'\n",
              "          + ' to learn more about interactive tables.';\n",
              "        element.innerHTML = '';\n",
              "        dataTable['output_type'] = 'display_data';\n",
              "        await google.colab.output.renderOutput(dataTable, element);\n",
              "        const docLink = document.createElement('div');\n",
              "        docLink.innerHTML = docLinkHtml;\n",
              "        element.appendChild(docLink);\n",
              "      }\n",
              "    </script>\n",
              "  </div>\n",
              "\n",
              "\n",
              "<div id=\"df-ad920f3b-0565-45fc-84b7-f0b7b4521404\">\n",
              "  <button class=\"colab-df-quickchart\" onclick=\"quickchart('df-ad920f3b-0565-45fc-84b7-f0b7b4521404')\"\n",
              "            title=\"Suggest charts\"\n",
              "            style=\"display:none;\">\n",
              "\n",
              "<svg xmlns=\"http://www.w3.org/2000/svg\" height=\"24px\"viewBox=\"0 0 24 24\"\n",
              "     width=\"24px\">\n",
              "    <g>\n",
              "        <path d=\"M19 3H5c-1.1 0-2 .9-2 2v14c0 1.1.9 2 2 2h14c1.1 0 2-.9 2-2V5c0-1.1-.9-2-2-2zM9 17H7v-7h2v7zm4 0h-2V7h2v10zm4 0h-2v-4h2v4z\"/>\n",
              "    </g>\n",
              "</svg>\n",
              "  </button>\n",
              "\n",
              "<style>\n",
              "  .colab-df-quickchart {\n",
              "      --bg-color: #E8F0FE;\n",
              "      --fill-color: #1967D2;\n",
              "      --hover-bg-color: #E2EBFA;\n",
              "      --hover-fill-color: #174EA6;\n",
              "      --disabled-fill-color: #AAA;\n",
              "      --disabled-bg-color: #DDD;\n",
              "  }\n",
              "\n",
              "  [theme=dark] .colab-df-quickchart {\n",
              "      --bg-color: #3B4455;\n",
              "      --fill-color: #D2E3FC;\n",
              "      --hover-bg-color: #434B5C;\n",
              "      --hover-fill-color: #FFFFFF;\n",
              "      --disabled-bg-color: #3B4455;\n",
              "      --disabled-fill-color: #666;\n",
              "  }\n",
              "\n",
              "  .colab-df-quickchart {\n",
              "    background-color: var(--bg-color);\n",
              "    border: none;\n",
              "    border-radius: 50%;\n",
              "    cursor: pointer;\n",
              "    display: none;\n",
              "    fill: var(--fill-color);\n",
              "    height: 32px;\n",
              "    padding: 0;\n",
              "    width: 32px;\n",
              "  }\n",
              "\n",
              "  .colab-df-quickchart:hover {\n",
              "    background-color: var(--hover-bg-color);\n",
              "    box-shadow: 0 1px 2px rgba(60, 64, 67, 0.3), 0 1px 3px 1px rgba(60, 64, 67, 0.15);\n",
              "    fill: var(--button-hover-fill-color);\n",
              "  }\n",
              "\n",
              "  .colab-df-quickchart-complete:disabled,\n",
              "  .colab-df-quickchart-complete:disabled:hover {\n",
              "    background-color: var(--disabled-bg-color);\n",
              "    fill: var(--disabled-fill-color);\n",
              "    box-shadow: none;\n",
              "  }\n",
              "\n",
              "  .colab-df-spinner {\n",
              "    border: 2px solid var(--fill-color);\n",
              "    border-color: transparent;\n",
              "    border-bottom-color: var(--fill-color);\n",
              "    animation:\n",
              "      spin 1s steps(1) infinite;\n",
              "  }\n",
              "\n",
              "  @keyframes spin {\n",
              "    0% {\n",
              "      border-color: transparent;\n",
              "      border-bottom-color: var(--fill-color);\n",
              "      border-left-color: var(--fill-color);\n",
              "    }\n",
              "    20% {\n",
              "      border-color: transparent;\n",
              "      border-left-color: var(--fill-color);\n",
              "      border-top-color: var(--fill-color);\n",
              "    }\n",
              "    30% {\n",
              "      border-color: transparent;\n",
              "      border-left-color: var(--fill-color);\n",
              "      border-top-color: var(--fill-color);\n",
              "      border-right-color: var(--fill-color);\n",
              "    }\n",
              "    40% {\n",
              "      border-color: transparent;\n",
              "      border-right-color: var(--fill-color);\n",
              "      border-top-color: var(--fill-color);\n",
              "    }\n",
              "    60% {\n",
              "      border-color: transparent;\n",
              "      border-right-color: var(--fill-color);\n",
              "    }\n",
              "    80% {\n",
              "      border-color: transparent;\n",
              "      border-right-color: var(--fill-color);\n",
              "      border-bottom-color: var(--fill-color);\n",
              "    }\n",
              "    90% {\n",
              "      border-color: transparent;\n",
              "      border-bottom-color: var(--fill-color);\n",
              "    }\n",
              "  }\n",
              "</style>\n",
              "\n",
              "  <script>\n",
              "    async function quickchart(key) {\n",
              "      const quickchartButtonEl =\n",
              "        document.querySelector('#' + key + ' button');\n",
              "      quickchartButtonEl.disabled = true;  // To prevent multiple clicks.\n",
              "      quickchartButtonEl.classList.add('colab-df-spinner');\n",
              "      try {\n",
              "        const charts = await google.colab.kernel.invokeFunction(\n",
              "            'suggestCharts', [key], {});\n",
              "      } catch (error) {\n",
              "        console.error('Error during call to suggestCharts:', error);\n",
              "      }\n",
              "      quickchartButtonEl.classList.remove('colab-df-spinner');\n",
              "      quickchartButtonEl.classList.add('colab-df-quickchart-complete');\n",
              "    }\n",
              "    (() => {\n",
              "      let quickchartButtonEl =\n",
              "        document.querySelector('#df-ad920f3b-0565-45fc-84b7-f0b7b4521404 button');\n",
              "      quickchartButtonEl.style.display =\n",
              "        google.colab.kernel.accessAllowed ? 'block' : 'none';\n",
              "    })();\n",
              "  </script>\n",
              "</div>\n",
              "\n",
              "    </div>\n",
              "  </div>\n"
            ],
            "text/plain": [
              "   age  sex  cp  trtbps  chol  restecg  thalach  output\n",
              "0   63    1   3     145   233        0      150       1\n",
              "1   37    1   2     130   250        1      187       1\n",
              "2   56    1   1     120   236        1      178       1\n",
              "3   57    0   0     120   354        1      163       1\n",
              "4   57    1   0     140   192        1      148       1"
            ]
          },
          "execution_count": 4,
          "metadata": {},
          "output_type": "execute_result"
        }
      ],
      "source": [
        "ha = pd.read_csv(\"https://www.dropbox.com/s/aohbr6yb9ifmc8w/heart_attack.csv?dl=1\")\n",
        "ha.head()"
      ]
    },
    {
      "cell_type": "markdown",
      "metadata": {
        "id": "OCX180v41bhe"
      },
      "source": [
        "## Q1: Natural Multiclass Models\n",
        "\n",
        "Fit a multiclass KNN, Decision Tree, and LDA for the heart disease data; this time predicting the type of chest pain (categories 0 - 3) that a patient experiences.  For the decision tree, plot the fitted tree, and interpret the first couple splits.\n"
      ]
    },
    {
      "cell_type": "code",
      "execution_count": 6,
      "metadata": {
        "colab": {
          "base_uri": "https://localhost:8080/"
        },
        "id": "WJsMBCZh1glq",
        "outputId": "d4e7c601-1749-4459-8ce0-76183b308d0e"
      },
      "outputs": [
        {
          "name": "stdout",
          "output_type": "stream",
          "text": [
            "KNN Classification Report:\n",
            "              precision    recall  f1-score   support\n",
            "\n",
            "           0       0.50      0.67      0.57       128\n",
            "           1       0.13      0.11      0.12        44\n",
            "           2       0.32      0.22      0.26        81\n",
            "           3       0.20      0.05      0.08        20\n",
            "\n",
            "    accuracy                           0.40       273\n",
            "   macro avg       0.29      0.26      0.26       273\n",
            "weighted avg       0.36      0.40      0.37       273\n",
            "\n"
          ]
        }
      ],
      "source": [
        "#KNN\n",
        "X = ha.drop(columns=[\"cp\",'output'])\n",
        "y = ha[\"cp\"]\n",
        "\n",
        "ct = ColumnTransformer(\n",
        "  [\n",
        "    (\"dummify\",\n",
        "    OneHotEncoder(sparse_output = False, drop = \"first\", handle_unknown='ignore'),\n",
        "    make_column_selector(dtype_include=object)),\n",
        "    (\"standardize\",\n",
        "    StandardScaler(),\n",
        "    make_column_selector(dtype_include=np.number))\n",
        "  ],\n",
        "  remainder = \"passthrough\"\n",
        ").set_output(transform=\"pandas\")\n",
        "\n",
        "lr_pipeline = Pipeline(\n",
        "  [(\"preprocessing\", ct),\n",
        "  (\"knn\", KNeighborsClassifier(n_neighbors=5))]\n",
        ")\n",
        "\n",
        "knn_preds = cross_val_predict(lr_pipeline, X, y, cv=5)\n",
        "\n",
        "print(\"KNN Classification Report:\")\n",
        "print(classification_report(y, knn_preds))"
      ]
    },
    {
      "cell_type": "code",
      "execution_count": 7,
      "metadata": {
        "colab": {
          "base_uri": "https://localhost:8080/",
          "height": 955
        },
        "id": "a43txmc54Sr4",
        "outputId": "906b1637-3399-41d9-9681-000b3a6bf1a8"
      },
      "outputs": [
        {
          "name": "stdout",
          "output_type": "stream",
          "text": [
            "Decision Tree Classification Report:\n",
            "              precision    recall  f1-score   support\n",
            "\n",
            "           0       0.56      0.74      0.64       128\n",
            "           1       0.00      0.00      0.00        44\n",
            "           2       0.35      0.44      0.39        81\n",
            "           3       0.00      0.00      0.00        20\n",
            "\n",
            "    accuracy                           0.48       273\n",
            "   macro avg       0.23      0.30      0.26       273\n",
            "weighted avg       0.37      0.48      0.42       273\n",
            "\n"
          ]
        },
        {
          "name": "stderr",
          "output_type": "stream",
          "text": [
            "/usr/local/lib/python3.10/dist-packages/sklearn/metrics/_classification.py:1531: UndefinedMetricWarning: Precision is ill-defined and being set to 0.0 in labels with no predicted samples. Use `zero_division` parameter to control this behavior.\n",
            "/usr/local/lib/python3.10/dist-packages/sklearn/metrics/_classification.py:1531: UndefinedMetricWarning: Precision is ill-defined and being set to 0.0 in labels with no predicted samples. Use `zero_division` parameter to control this behavior.\n",
            "/usr/local/lib/python3.10/dist-packages/sklearn/metrics/_classification.py:1531: UndefinedMetricWarning: Precision is ill-defined and being set to 0.0 in labels with no predicted samples. Use `zero_division` parameter to control this behavior.\n"
          ]
        },
        {
          "data": {
            "image/png": "[encoded data removed]",
            "text/plain": [
              "<Figure size 1200x800 with 1 Axes>"
            ]
          },
          "metadata": {},
          "output_type": "display_data"
        }
      ],
      "source": [
        "#Decision Tree\n",
        "dt = DecisionTreeClassifier(max_depth=2)\n",
        "\n",
        "dt_preds = cross_val_predict(dt, X, y, cv=5)\n",
        "\n",
        "print(\"Decision Tree Classification Report:\")\n",
        "print(classification_report(y, dt_preds))\n",
        "\n",
        "# Fit the model on the entire dataset for plotting\n",
        "dt.fit(X, y)\n",
        "\n",
        "# Plot the Decision Tree\n",
        "plt.figure(figsize=(12, 8))\n",
        "plot_tree(dt, feature_names=X.columns, class_names=[str(c) for c in dt.classes_], filled=True)\n",
        "plt.title(\"Decision Tree\")\n",
        "plt.show()\n"
      ]
    },
    {
      "cell_type": "markdown",
      "metadata": {
        "id": "wORXoMg1H2dY"
      },
      "source": [
        "The first split uses the feature thalach to broadly separate the data into two groups based on heart rate thresholds.  \n",
        "The left subtree focuses on refining predictions for lower thalach values using age, while the right subtree further divides higher thalach values.  \n",
        "These splits aim to reduce the Gini impurity, improving classification accuracy at each level."
      ]
    },
    {
      "cell_type": "code",
      "execution_count": 8,
      "metadata": {
        "colab": {
          "base_uri": "https://localhost:8080/"
        },
        "id": "ckvSI2Wp7TY0",
        "outputId": "f2c492a1-2b9e-47a8-fb75-cff75610ad08"
      },
      "outputs": [
        {
          "name": "stdout",
          "output_type": "stream",
          "text": [
            "LDA Classification Report:\n",
            "              precision    recall  f1-score   support\n",
            "\n",
            "           0       0.56      0.75      0.64       128\n",
            "           1       0.40      0.05      0.08        44\n",
            "           2       0.32      0.36      0.34        81\n",
            "           3       0.00      0.00      0.00        20\n",
            "\n",
            "    accuracy                           0.47       273\n",
            "   macro avg       0.32      0.29      0.26       273\n",
            "weighted avg       0.42      0.47      0.41       273\n",
            "\n"
          ]
        }
      ],
      "source": [
        "#LDA\n",
        "lda = LinearDiscriminantAnalysis()\n",
        "\n",
        "# Cross-validated predictions\n",
        "lda_preds = cross_val_predict(lda, X, y, cv=5)\n",
        "\n",
        "# Evaluation\n",
        "print(\"LDA Classification Report:\")\n",
        "print(classification_report(y, lda_preds))\n"
      ]
    },
    {
      "cell_type": "markdown",
      "metadata": {
        "id": "gYqpOtbO1EAJ"
      },
      "source": [
        "## Q2:  OvR\n",
        "\n",
        "Create a new column in the `ha` dataset called `cp_is_3`, which is equal to `1` if the `cp` variable is equal to `3` and `0` otherwise.\n",
        "\n",
        "Then, fit a Logistic Regression to predict this new target, and report the **F1 Score**.\n",
        "\n",
        "Repeat for the other three `cp` categories.  Which category was the OvR approach best at distinguishing?"
      ]
    },
    {
      "cell_type": "code",
      "execution_count": 9,
      "metadata": {
        "id": "90PfjsjW1T2Y"
      },
      "outputs": [],
      "source": [
        "ha[\"cp_is_0\"] = (ha[\"cp\"] == 0).astype(int)\n",
        "ha[\"cp_is_1\"] = (ha[\"cp\"] == 1).astype(int)\n",
        "ha[\"cp_is_2\"] = (ha[\"cp\"] == 2).astype(int)\n",
        "ha[\"cp_is_3\"] = (ha[\"cp\"] == 3).astype(int)"
      ]
    },
    {
      "cell_type": "code",
      "execution_count": 10,
      "metadata": {
        "id": "pZboys1ir5kM"
      },
      "outputs": [],
      "source": [
        "X = ha.drop(columns=[\"cp\", \"cp_is_0\", \"cp_is_1\", \"cp_is_2\", \"cp_is_3\",'output'])\n",
        "y = ha[\"cp_is_3\"]"
      ]
    },
    {
      "cell_type": "code",
      "execution_count": 11,
      "metadata": {
        "colab": {
          "base_uri": "https://localhost:8080/"
        },
        "id": "Ujlu0P7Mr_EU",
        "outputId": "52231935-20dd-453e-a47b-d42a55ae32f4"
      },
      "outputs": [
        {
          "name": "stdout",
          "output_type": "stream",
          "text": [
            "              precision    recall  f1-score   support\n",
            "\n",
            "           0       0.93      1.00      0.96       253\n",
            "           1       0.00      0.00      0.00        20\n",
            "\n",
            "    accuracy                           0.92       273\n",
            "   macro avg       0.46      0.50      0.48       273\n",
            "weighted avg       0.86      0.92      0.89       273\n",
            "\n"
          ]
        }
      ],
      "source": [
        "model1 = LogisticRegression().fit(X, y)\n",
        "y_pred = cross_val_predict(model1, X, y, cv=5)\n",
        "print(classification_report(y, y_pred))"
      ]
    },
    {
      "cell_type": "markdown",
      "metadata": {
        "id": "NhltMBrnIWBv"
      },
      "source": [
        "The F1 score for cp not equal to 3 is 0.96, while the F1 score for cp equal to 3 is 0.00. This indicates that the model performs very well when cp is not 3 but fails completely to identify cases where cp is 3."
      ]
    },
    {
      "cell_type": "code",
      "execution_count": 12,
      "metadata": {
        "colab": {
          "base_uri": "https://localhost:8080/"
        },
        "id": "kh52ypzwvB2m",
        "outputId": "30201442-adf1-4266-b6f8-4f34d36233f4"
      },
      "outputs": [
        {
          "name": "stdout",
          "output_type": "stream",
          "text": [
            "              precision    recall  f1-score   support\n",
            "\n",
            "           0       0.65      0.72      0.68       145\n",
            "           1       0.64      0.56      0.60       128\n",
            "\n",
            "    accuracy                           0.64       273\n",
            "   macro avg       0.64      0.64      0.64       273\n",
            "weighted avg       0.64      0.64      0.64       273\n",
            "\n"
          ]
        }
      ],
      "source": [
        "y = ha[\"cp_is_0\"]\n",
        "model = LogisticRegression().fit(X, y)\n",
        "y_pred = cross_val_predict(model, X, y, cv=5)\n",
        "print(classification_report(y, y_pred))"
      ]
    },
    {
      "cell_type": "markdown",
      "metadata": {
        "id": "hvES16kGIplG"
      },
      "source": [
        "The F1 score for cp not equal to 0 is 0.68, while the F1 score for cp equal to 0 is 0.60. This indicates that the model performs well when cp is not 0 and cp is 0."
      ]
    },
    {
      "cell_type": "code",
      "execution_count": 13,
      "metadata": {
        "colab": {
          "base_uri": "https://localhost:8080/"
        },
        "id": "X2o0iApNtpwj",
        "outputId": "39d867e3-7ed9-4aa3-f617-e49f0293af78"
      },
      "outputs": [
        {
          "name": "stdout",
          "output_type": "stream",
          "text": [
            "              precision    recall  f1-score   support\n",
            "\n",
            "           0       0.84      0.99      0.91       229\n",
            "           1       0.00      0.00      0.00        44\n",
            "\n",
            "    accuracy                           0.83       273\n",
            "   macro avg       0.42      0.50      0.45       273\n",
            "weighted avg       0.70      0.83      0.76       273\n",
            "\n"
          ]
        }
      ],
      "source": [
        "y = ha[\"cp_is_1\"]\n",
        "model = LogisticRegression().fit(X, y)\n",
        "y_pred = cross_val_predict(model, X, y, cv=5)\n",
        "print(classification_report(y, y_pred))"
      ]
    },
    {
      "cell_type": "markdown",
      "metadata": {
        "id": "eTcCm_PpIynp"
      },
      "source": [
        "The F1 score for cp not equal to 1 is 0.91, while the F1 score for cp equal to 1 is 0.00. This indicates that the model performs very well when cp is not 1 but fails completely to identify cases where cp is 1."
      ]
    },
    {
      "cell_type": "code",
      "execution_count": 14,
      "metadata": {
        "colab": {
          "base_uri": "https://localhost:8080/"
        },
        "id": "Q5UksGlLvP_H",
        "outputId": "e325e628-7447-48ad-c33e-59db224763a1"
      },
      "outputs": [
        {
          "name": "stdout",
          "output_type": "stream",
          "text": [
            "              precision    recall  f1-score   support\n",
            "\n",
            "           0       0.69      0.90      0.78       192\n",
            "           1       0.17      0.05      0.08        81\n",
            "\n",
            "    accuracy                           0.65       273\n",
            "   macro avg       0.43      0.48      0.43       273\n",
            "weighted avg       0.54      0.65      0.57       273\n",
            "\n"
          ]
        }
      ],
      "source": [
        "y = ha[\"cp_is_2\"]\n",
        "model = LogisticRegression().fit(X, y)\n",
        "y_pred = cross_val_predict(model, X, y, cv=5)\n",
        "print(classification_report(y, y_pred))"
      ]
    },
    {
      "cell_type": "markdown",
      "metadata": {
        "id": "g-3Iv9KqI2Ke"
      },
      "source": [
        "The F1 score for cp not equal to 2 is 0.78, while the F1 score for cp equal to 2 is 0.08. This indicates that the model performs very well when cp is not 2 but fails to identify cases where cp is 2."
      ]
    },
    {
      "cell_type": "markdown",
      "metadata": {
        "id": "_IR20eyNwf9K"
      },
      "source": [
        "The OvR approach works best when cp = 0 is the category, as it has the highest F1 score for category 0.\n"
      ]
    },
    {
      "cell_type": "markdown",
      "metadata": {
        "id": "lXO3jbTU1ULR"
      },
      "source": [
        "## Q3: OvO\n",
        "\n",
        "Reduce your dataset to only the `0` and `1` types of chest pain.\n",
        "\n",
        "Then, fit a Logistic Regression to predict between the two groups, and report the **ROC-AUC**.  \n",
        "\n",
        "Repeat comparing category `0` to `2` and `3`.  Which pair was the OvO approach best at distinguishing?"
      ]
    },
    {
      "cell_type": "code",
      "execution_count": 15,
      "metadata": {
        "id": "THrjnRoV1siy"
      },
      "outputs": [],
      "source": [
        "ha_0_1 = ha[~ha['cp'].isin([2, 3])]\n",
        "X = ha_0_1.drop(columns=[\"cp\", \"cp_is_0\", \"cp_is_1\", \"cp_is_2\", \"cp_is_3\",'output'])"
      ]
    },
    {
      "cell_type": "code",
      "execution_count": 16,
      "metadata": {
        "colab": {
          "base_uri": "https://localhost:8080/"
        },
        "id": "XxLDFZfX08Do",
        "outputId": "9849d034-b58a-4559-f33d-f90cbaaaafe9"
      },
      "outputs": [
        {
          "name": "stdout",
          "output_type": "stream",
          "text": [
            "roc_auc_score for 0 and 1: 0.6235795454545454\n"
          ]
        }
      ],
      "source": [
        "y = ha_0_1[\"cp_is_0\"]\n",
        "model = LogisticRegression().fit(X, y)\n",
        "y_pred = cross_val_predict(model, X, y, cv=5)\n",
        "print(f\"roc_auc_score for 0 and 1: {roc_auc_score(y, y_pred)}\")"
      ]
    },
    {
      "cell_type": "code",
      "execution_count": 17,
      "metadata": {
        "colab": {
          "base_uri": "https://localhost:8080/"
        },
        "id": "PTZcS1pB1x0G",
        "outputId": "b6e32819-eb65-4433-92f2-c83441b85f99"
      },
      "outputs": [
        {
          "name": "stdout",
          "output_type": "stream",
          "text": [
            "roc_auc_score for 0 and 2: 0.5719039351851852\n"
          ]
        }
      ],
      "source": [
        "ha_0_2 = ha[~ha['cp'].isin([1, 3])]\n",
        "X = ha_0_2.drop(columns=[\"cp\", \"cp_is_0\", \"cp_is_1\", \"cp_is_2\", \"cp_is_3\",'output'])\n",
        "y = ha_0_2[\"cp_is_0\"]\n",
        "model = LogisticRegression().fit(X, y)\n",
        "y_pred = cross_val_predict(model, X, y, cv=5)\n",
        "print(f\"roc_auc_score for 0 and 2: {roc_auc_score(y, y_pred)}\")"
      ]
    },
    {
      "cell_type": "code",
      "execution_count": 18,
      "metadata": {
        "colab": {
          "base_uri": "https://localhost:8080/"
        },
        "id": "G_Tb0ber2QNE",
        "outputId": "28e2ba8a-3ae5-4005-c480-4ce31b0ef5a4"
      },
      "outputs": [
        {
          "name": "stdout",
          "output_type": "stream",
          "text": [
            "roc_auc_score for 0 and 3: 0.4765625\n"
          ]
        }
      ],
      "source": [
        "ha_0_3 = ha[~ha['cp'].isin([1, 2])]\n",
        "X = ha_0_3.drop(columns=[\"cp\", \"cp_is_0\", \"cp_is_1\", \"cp_is_2\", \"cp_is_3\",'output'])\n",
        "y = ha_0_3[\"cp_is_0\"]\n",
        "model = LogisticRegression().fit(X, y)\n",
        "y_pred = cross_val_predict(model, X, y, cv=5)\n",
        "print(f\"roc_auc_score for 0 and 3: {roc_auc_score(y, y_pred)}\")"
      ]
    },
    {
      "cell_type": "markdown",
      "metadata": {
        "id": "v4us2asg5SwX"
      },
      "source": [
        "# Sources\n",
        "Assistance was provided by ChatGPT and Gemini for guidance on coding functions, analysis suggestions, and code fixing."
      ]
    }
  ],
  "metadata": {
    "colab": {
      "provenance": []
    },
    "kernelspec": {
      "display_name": "Python 3",
      "name": "python3"
    },
    "language_info": {
      "name": "python"
    }
  },
  "nbformat": 4,
  "nbformat_minor": 0
}
